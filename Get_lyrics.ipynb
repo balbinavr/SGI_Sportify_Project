{
 "cells": [
  {
   "cell_type": "code",
   "execution_count": null,
   "metadata": {
    "colab": {
     "base_uri": "https://localhost:8080/",
     "height": 280
    },
    "colab_type": "code",
    "id": "d93_4vQaxLuJ",
    "outputId": "ea0a36e7-bf0c-4b3f-bddd-d657f7e556c4"
   },
   "outputs": [],
   "source": [
    "!pip install spotipy"
   ]
  },
  {
   "cell_type": "code",
   "execution_count": null,
   "metadata": {
    "colab": {
     "base_uri": "https://localhost:8080/",
     "height": 261
    },
    "colab_type": "code",
    "id": "gRPNxB3NfiHI",
    "outputId": "9dd1ba00-f09d-4c86-d128-40e599226471"
   },
   "outputs": [],
   "source": [
    "!pip install fa2"
   ]
  },
  {
   "cell_type": "code",
   "execution_count": null,
   "metadata": {
    "colab": {},
    "colab_type": "code",
    "id": "KLRsDG1O9Nzf"
   },
   "outputs": [],
   "source": [
    "import sys\n",
    "from spotipy.oauth2 import SpotifyClientCredentials\n",
    "import spotipy\n",
    "import pprint\n",
    "import csv\n",
    "import matplotlib.pyplot as plt\n",
    "import matplotlib.patches as mpatches"
   ]
  },
  {
   "cell_type": "code",
   "execution_count": null,
   "metadata": {
    "colab": {},
    "colab_type": "code",
    "id": "dScC6o1baiIS"
   },
   "outputs": [],
   "source": [
    "import networkx as nx\n",
    "from fa2 import ForceAtlas2"
   ]
  },
  {
   "cell_type": "code",
   "execution_count": null,
   "metadata": {
    "colab": {},
    "colab_type": "code",
    "id": "-TcjJZo3YuRO"
   },
   "outputs": [],
   "source": [
    "!pip install azlyrics"
   ]
  },
  {
   "cell_type": "code",
   "execution_count": null,
   "metadata": {
    "scrolled": true
   },
   "outputs": [],
   "source": [
    "!pip install lyricwikia"
   ]
  },
  {
   "cell_type": "code",
   "execution_count": null,
   "metadata": {
    "scrolled": true
   },
   "outputs": [],
   "source": []
  },
  {
   "cell_type": "code",
   "execution_count": null,
   "metadata": {},
   "outputs": [],
   "source": [
    "!pip install BeautifulSoup4"
   ]
  },
  {
   "cell_type": "code",
   "execution_count": null,
   "metadata": {
    "colab": {},
    "colab_type": "code",
    "id": "0A0jNnIAY5WP"
   },
   "outputs": [],
   "source": [
    "from azlyrics import lyrics\n",
    "import pandas as pd\n",
    "import re\n",
    "import lyricwikia\n",
    "import urllib2\n",
    "import json\n",
    "import bs4\n",
    "import requests\n",
    "import unicodedata\n",
    "import nltk"
   ]
  },
  {
   "cell_type": "code",
   "execution_count": null,
   "metadata": {
    "colab": {},
    "colab_type": "code",
    "id": "yYLp-NJYqylt"
   },
   "outputs": [],
   "source": [
    "mkdir lyrics"
   ]
  },
  {
   "cell_type": "code",
   "execution_count": null,
   "metadata": {},
   "outputs": [],
   "source": [
    "mkdir topsters"
   ]
  },
  {
   "cell_type": "code",
   "execution_count": null,
   "metadata": {
    "colab": {},
    "colab_type": "code",
    "id": "lBwFpa00SwXK"
   },
   "outputs": [],
   "source": [
    "#SETTING THE DATAFRAMES WE NEED HERE\n",
    "artists_df = pd.read_csv('artists.csv')"
   ]
  },
  {
   "cell_type": "code",
   "execution_count": null,
   "metadata": {},
   "outputs": [],
   "source": [
    "client_id = \"b06999e849764d0cb9d85ff2b4762fd9\"\n",
    "client_secret = \"4565b9044d694deb9cf54eddb9b08e69\"\n",
    "\n",
    "client_credentials_manager = SpotifyClientCredentials(client_id=client_id, client_secret=client_secret)\n",
    "sp = spotipy.Spotify(client_credentials_manager=client_credentials_manager)"
   ]
  },
  {
   "cell_type": "code",
   "execution_count": null,
   "metadata": {},
   "outputs": [],
   "source": [
    "len(artists_df.index)"
   ]
  },
  {
   "cell_type": "code",
   "execution_count": null,
   "metadata": {},
   "outputs": [],
   "source": [
    "artist_dict = {}\n",
    "counter = 0\n",
    "for index, row in artists_df.iterrows():\n",
    "    artist_id = row['Artist_id']\n",
    "    artist_name = row['Artist']\n",
    "    if (artist_id in artist_dict):\n",
    "        print(artist_id)\n",
    "        print(artist_name)\n",
    "        print(artist_dict[artist_id])\n",
    "        counter += 1\n",
    "        continue\n",
    "    artist_dict[artist_id] = artist_name\n",
    "print(counter)"
   ]
  },
  {
   "cell_type": "code",
   "execution_count": null,
   "metadata": {
    "scrolled": false
   },
   "outputs": [],
   "source": [
    "counter = 0\n",
    "counter_dup = 0\n",
    "import os.path\n",
    "for index, row in artists_df.iterrows():\n",
    "    counter += 1\n",
    "    if (counter % 10 == 0):\n",
    "        print(counter)\n",
    "    artist_id = row['Artist_id']\n",
    "    artist_name = row['Artist']\n",
    "    try:\n",
    "        if (os.path.exists(\"./topsters/songs_\"+str(artist_id)+\".csv\")):\n",
    "            print(artist_id)\n",
    "            counter_dup += 1\n",
    "        fileCsv2 = csv.writer(open(\"./topsters/songs_\"+str(artist_id)+\".csv\", \"w+\"))\n",
    "        fileCsv2.writerow(['Artist', 'Artist_id', 'Song', 'Song_id'])\n",
    "        top_track_list = sp.artist_top_tracks(str(artist_id))['tracks']\n",
    "    except:\n",
    "        print(artist_id)\n",
    "        pass\n",
    "    for track in top_track_list:\n",
    "        row = [artist_name.encode('ascii', 'ignore'),str(artist_id).encode('ascii', 'ignore'),track['name'].encode('ascii', 'ignore'), track['id'].encode('ascii', 'ignore')]\n",
    "        fileCsv2.writerow(row)\n",
    "print(counter_dup)"
   ]
  },
  {
   "cell_type": "code",
   "execution_count": null,
   "metadata": {},
   "outputs": [],
   "source": [
    "genius_api_dict = {'id':'eOFdp-v__I7JeKporMF3K49wKnz3cYIkJcOGUP1wRz2uV7AmWh1eeBup_zJMCkqA',\n",
    "              'secret': 'kbbVWQxhXtsfnHm1W65gkjnvxlt9A3U2ih5bf6KWBJe6_KeYWZWyxC4rDK62OX9OQ9cLWTH0FgKZWoRmEofH9g',\n",
    "              'access_token': 'jhpqKVzO880gvQ5i-JkEh08wTUhmmA4kMuCkt5MQKLKMrWnjjqs3Z0WiVd49TmR7'}"
   ]
  },
  {
   "cell_type": "code",
   "execution_count": null,
   "metadata": {},
   "outputs": [],
   "source": [
    "def genius_Lyrics(artist, song):\n",
    "    querystring = \"http://api.genius.com/search?q=\" + urllib2.quote(song + \" \" + artist)\n",
    "    request = urllib2.Request(querystring)\n",
    "    request.add_header(\"Authorization\", \"Bearer \" + genius_api_dict['access_token'])   \n",
    "    request.add_header(\"User-Agent\", \"curl/7.9.8 (i686-pc-linux-gnu) libcurl 7.9.8 (OpenSSL 0.9.6b) (ipv6 enabled)\") #Must include user agent of some sort, otherwise 403 returned\n",
    "    while True:\n",
    "        try:\n",
    "            response = urllib2.urlopen(request, timeout=4) #timeout set to 4 seconds; automatically retries if times out\n",
    "            raw = response.read()\n",
    "        except socket.timeout:\n",
    "            print(\"Timeout raised and caught\")\n",
    "            continue\n",
    "        break\n",
    "    json_obj = json.loads(raw)\n",
    "    body = json_obj[\"response\"][\"hits\"]\n",
    "\n",
    "    num_hits = len(body)\n",
    "    if num_hits==0:\n",
    "        print(\"\\t\\tNo results for: \" + song)      \n",
    "\n",
    "    for result in body:\n",
    "\n",
    "#             result_id = result[\"result\"][\"id\"]\n",
    "#             title = result[\"result\"][\"title\"]\n",
    "        url = result[\"result\"][\"url\"]\n",
    "#             path = result[\"result\"][\"path\"]\n",
    "#             header_image_url = result[\"result\"][\"header_image_url\"]\n",
    "#             annotation_count = result[\"result\"][\"annotation_count\"]\n",
    "#             pyongs_count = result[\"result\"][\"pyongs_count\"]\n",
    "#             primaryartist_id = result[\"result\"][\"primary_artist\"][\"id\"]\n",
    "#             primaryartist_name = result[\"result\"][\"primary_artist\"][\"name\"]\n",
    "#             primaryartist_url = result[\"result\"][\"primary_artist\"][\"url\"]\n",
    "#             primaryartist_imageurl = result[\"result\"][\"primary_artist\"][\"image_url\"]\n",
    "#             row=[page,result_id,title,url,path,header_image_url,annotation_count,pyongs_count,primaryartist_id,primaryartist_name,primaryartist_url,primaryartist_imageurl]\n",
    "#             print(row) #write as CSV\n",
    "        page = requests.get(url)\n",
    "        if page.status_code == 404:\n",
    "            return None\n",
    "\n",
    "        # Scrape the song lyrics from the HTML\n",
    "        html = bs4.BeautifulSoup(page.text, \"html.parser\")\n",
    "        title_genius = html.find(\"h1\", class_=\"header_with_cover_art-primary_info-title\").get_text().strip()\n",
    "        artist_genius = html.find(\"a\", class_=\"header_with_cover_art-primary_info-primary_artist\").get_text().strip()\n",
    "#         print('artist_genius: {} - artist: {}'.format(artist_genius, artist))\n",
    "        if (title_genius == song.strip() ):#and artist_genius == artist):\n",
    "            lyrics = html.find(\"div\", class_=\"lyrics\").get_text()\n",
    "            lyrics = re.sub('(\\[.*?\\])*', '', lyrics)\n",
    "            lyrics = re.sub('\\n{2}', '\\n', lyrics)  # Gaps between verses\n",
    "\n",
    "            lyrics = unicodedata.normalize('NFKD', lyrics).encode('ascii','ignore')\n",
    "            return lyrics.strip('\\n')\n",
    "    return None    \n",
    "        "
   ]
  },
  {
   "cell_type": "code",
   "execution_count": null,
   "metadata": {},
   "outputs": [],
   "source": [
    "def removePunctuation(tokens):\n",
    "    \"\"\"\n",
    "    This function finds punctuation (apart from '#' symbols) from each string token inside the provided token list\n",
    "    \n",
    "    arguments: tokens: list of strings\n",
    "    returns: list of strings (tokens)\n",
    "    \"\"\"\n",
    "    new_token_list = []\n",
    "    for token in tokens:\n",
    "        #returns a new string without punctuation\n",
    "        new_token = re.sub(r'[^\\w\\s#]','',token)\n",
    "        if (len(new_token) > 0):\n",
    "            new_token_list.append(new_token)\n",
    "    return new_token_list"
   ]
  },
  {
   "cell_type": "code",
   "execution_count": null,
   "metadata": {
    "colab": {},
    "colab_type": "code",
    "id": "9Tjzo_GgY7Ur",
    "scrolled": true
   },
   "outputs": [],
   "source": [
    "for index, row in artists_df.iterrows():\n",
    "    artist_id = row['Artist_id']\n",
    "    artist_name = row['Artist']\n",
    "    artists_song_df = pd.read_csv('./songs/songs_'+artist_id+'.csv')\n",
    "    fileCsv_song_lyrics = csv.writer(open('./lyrics/lyrics_'+artist_id+'.csv', \"w+\"))\n",
    "    fileCsv_song_lyrics.writerow(['Artist', 'Artist_id','Song','Song_id','Lyrics'])\n",
    "\n",
    "#     with pd.option_context('display.max_rows', None, 'display.max_columns', None):\n",
    "#         print(artists_song_df)\n",
    "#     break\n",
    "    unique_song_list = []\n",
    "    for index_song, row_song in artists_song_df.iterrows():\n",
    "#         print(row_song['Song'])\n",
    "        if (not(row_song['Song'] in unique_song_list)):\n",
    "            unique_song_list.append(row_song['Song'])\n",
    "            lyrics = None\n",
    "            if (not('strumental' in row_song['Song'] and 'emix' in row_song['Song'])):\n",
    "                song_name_wo_parentheses = re.sub(r'\\([^()]*\\)', '', row_song['Song'])\n",
    "                print artist_name\n",
    "                print \"====\"+song_name_wo_parentheses\n",
    "                try:\n",
    "                    wd = lyrics(artist_name, song_name_wo_parentheses)\n",
    "                    if ('Error' in wd):\n",
    "                        wd = lyrics(artist_name, row_song['Song'])\n",
    "                    if ('Error' in wd):\n",
    "                        raise Exception\n",
    "            #             print(song_name_wo_parentheses +' - Unable to find lyrics in AZ')\n",
    "                    else:\n",
    "                        lyrics = wd\n",
    "                        print(row_song['Song'] +' - FOUND LYRICS in AZ')\n",
    "\n",
    "                except: #if shadow banned from AZLyrics\n",
    "                    print('\\tAZ failed')\n",
    "                    try:\n",
    "                        lyrics = lyricwikia.get_lyrics(artist_name, song_name_wo_parentheses)\n",
    "                    except:\n",
    "                        print('\\tLyric Wikia failed')\n",
    "                        try:\n",
    "                            lyrics = genius_Lyrics(artist_name, song_name_wo_parentheses)\n",
    "                            if (lyrics == None):\n",
    "                                print(\"\\tGenius failed\")\n",
    "                        except:\n",
    "                            print('Socket error - Sleeping 5 sec')\n",
    "                            time.sleep(5)\n",
    "            if not(lyrics == None):\n",
    "                #tokenize lyrics\n",
    "                lyrics = nltk.word_tokenize(lyrics)\n",
    "                lyrics = removePunctuation(lyrics)\n",
    "                if isinstance(lyrics, list):\n",
    "                    lyric_string = \"\"\n",
    "                    for lyric in lyrics:\n",
    "                        lyric_string = lyric_string + \" \" + lyric\n",
    "                    lyrics = lyric_string\n",
    "                fileCsv_song_lyrics.writerow([artist_name, artist_id,row_song['Song'],row_song['Song_id'],lyrics])           #do NOT write in the CSV if you cannot find the lyrics\n",
    "                print(\"\\tADDED LYRICS\")\n"
   ]
  },
  {
   "cell_type": "code",
   "execution_count": null,
   "metadata": {
    "colab": {},
    "colab_type": "code",
    "id": "0YqEil-BZX9Z"
   },
   "outputs": [],
   "source": [
    "result = sp.artist_albums('spotify:artist:5pKCCKE2ajJHZ9KAiaK11H')\n",
    "for album in result['items']:\n",
    "  print(album['uri'])\n",
    "  result1 = sp.album_tracks(album['uri'])\n",
    "    #pprint.pprint(result1)\n",
    "  for song in result1['items']:\n",
    "      pprint.pprint(song['name'])"
   ]
  },
  {
   "cell_type": "code",
   "execution_count": null,
   "metadata": {
    "colab": {},
    "colab_type": "code",
    "id": "ccxf9yCYa1QI"
   },
   "outputs": [],
   "source": [
    "result = sp.artist_top_tracks('spotify:artist:5pKCCKE2ajJHZ9KAiaK11H')\n",
    "#pprint.pprint(result)\n",
    "for album in result['tracks']:\n",
    "  #pprint.pprint(album['album']['uri'])\n",
    "  result1 = sp.album_tracks(album['album']['uri'])\n",
    "  #pprint.pprint(result1)\n",
    "  for song in result1['items']:\n",
    "      pprint.pprint(song['name'])\n",
    "      wd = lyrics(\"Rihanna\", song['name'])\n",
    "      for line in wd:\n",
    "        print(line)\n",
    "      break"
   ]
  },
  {
   "cell_type": "markdown",
   "metadata": {
    "colab_type": "text",
    "id": "viVXmICWfR6v"
   },
   "source": []
  }
 ],
 "metadata": {
  "colab": {
   "collapsed_sections": [],
   "name": "SGI_Final_Project.ipynb",
   "provenance": [],
   "version": "0.3.2"
  },
  "kernelspec": {
   "display_name": "Python 2",
   "language": "python",
   "name": "python2"
  },
  "language_info": {
   "codemirror_mode": {
    "name": "ipython",
    "version": 2
   },
   "file_extension": ".py",
   "mimetype": "text/x-python",
   "name": "python",
   "nbconvert_exporter": "python",
   "pygments_lexer": "ipython2",
   "version": "2.7.15"
  }
 },
 "nbformat": 4,
 "nbformat_minor": 1
}
