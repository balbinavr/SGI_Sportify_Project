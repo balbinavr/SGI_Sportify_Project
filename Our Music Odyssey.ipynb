{
 "cells": [
  {
   "cell_type": "markdown",
   "metadata": {},
   "source": [
    "# Our Music Odyssey\n",
    "## A Look into Spotify's Top of the Top"
   ]
  },
  {
   "cell_type": "markdown",
   "metadata": {},
   "source": [
    "### Motivation\n",
    "#### Music is a beautiful thing. \n",
    "It connects people of different backgrounds, from different parts of the world in a nearly automatic, subconcious level. It allows us to experience a mystical, unexplainable joy that is hard to come by in a world that is becoming increasingly logical and technocratic.\n",
    "\n",
    "Everyone at some point of his life has related with a song mood, sounds and of course a song's lyrics. Music is everywhere and that is why we want to analyze information related to music and see if we are able to create a recommendation system using the tools and techniques that we have learned during the course.\n",
    "\n",
    "To put it in a nutshell, we are interested in:\n",
    "\n",
    " * Analysing the collaborations between artists\n",
    " * Analysing song musical similarities and if possible, find the songs that represent the mood and sound of each genre.\n",
    " * Finding how consistent each genre is soundwise. Do most songs sound similar, or you can find much diversity? \n",
    " * Analysing the content of song's lyrics of different artists.\n",
    " * Analysing all the song's lyrics with focus on sentiment, grammar, lexical similarity as well as a set of other features and plot the results to reach meaningful conclusions"
   ]
  },
  {
   "cell_type": "markdown",
   "metadata": {},
   "source": [
    "## Table of Contents\n",
    "### [Part I: Data Mining and Processing](http://nbviewer.jupyter.org/github/balbinavr/SGI_Spotify_Project/blob/master/Social-Graphs-Final-Project.ipynb)\n",
    "### [Part II: Collaboration Networks](http://nbviewer.jupyter.org/github/balbinavr/SGI_Spotify_Project/blob/master/ColaborationsNodes.ipynb)\n",
    "### [Part III: Musical Similarity Networks](http://nbviewer.jupyter.org/github/balbinavr/SGI_Spotify_Project/blob/master/Kon.ipynb)\n",
    "### [Part IV: Text Analysis](http://nbviewer.jupyter.org/github/balbinavr/SGI_Spotify_Project/blob/master/Linguistics.ipynb)"
   ]
  },
  {
   "cell_type": "markdown",
   "metadata": {},
   "source": [
    "### Conclusions and further discussion\n",
    "#### Data Mining and Processing\n",
    "- What we've done right:\n",
    "- What we haven't done:\n",
    "\n",
    "#### Collaboration Networks\n",
    "- What we've done right:\n",
    "- What we haven't done:\n",
    "\n",
    "#### Musical Similarity Networks\n",
    "- What we've done right:\n",
    "- What we haven't done:\n",
    "\n",
    "#### Text Analysis\n",
    "- What we've done right: We consider the analysis of text to be significantly robust in this project. Our goal was to provide the tools, dataset and conclusions to provide a basis for meaningful discussion. Through this part of the research project, we have defined a lexicon that can be effectively used in extensions and additions whilst preserving a theoretical complecency with previous results. Apart from that, we are proud of the versatility of tools used to arrive in those results. We didn't limit ourselves to one solution but experimented with multiple ones (especially in mining data and sentiment analysis) whilst at the same time, created versatile Pandas dataframes and dictionaries that can be used in the future. We have tried to make the most out of the plotting capabilities that Python provides us with Matplotlib, Seaborn and JoyPy.  \n",
    "- What we haven't done: We divide this section on the things that could be better and the ones that can be future additions:\n",
    "    - Could be better: We would have liked to have less dictionaries and more use of Pandas Dataframes, due to their indexing capabilities. We would have also liked to present a few interactive plots: the API to do that is very simple with plot.ly. We started our project with high hopes. We wanted to analyse as many as 150,000 total songs - an estimated number for the whole catalogue of all artists in the Top 700. A function to fetch the lyrics of those songs is implemented but the fetching of that data would be a __bottleneck__ for our project. The API calls and HTTP requests are very time consuming and fetching that data would take from days to weeks.\n",
    "    - Future additions: \n",
    "        - Adding more genres into the analysis\n",
    "        - Use mean and standard deviation to find negative and positive songs (this has not been done here, since it was part of previous assignments this semester) and do all sorts of cool things with the statistics\n",
    "        - Make wordclouds from all songs of an artist with illustrative examples\n",
    "        - Split songs in 3 parts - intro, middle part and final. Find words that exist in those parts: see their sentiment and find if they have certain characteristics\n",
    "        - Use titles to see if they have special features and if they represent sentiment adequately\n",
    "        - Mine Wikipedia (or discogs.com or rym.com) to find release dates for albums. See if they have special lexical characteristics and plot distribution of sentiment over time\n",
    "        - Text analyse collaborations and see if they have differences in sentiment\n",
    "        - Use datasets ('god', 'holly', 'sacred', ...) to find out how deity/religious-heavy each genre is \n",
    "        - Use datasets ('brother', 'sister', 'family', ...) to find out how family themed each genre is\n",
    "        - Use datasets ('home', 'homeland', 'America', ...) to find out how patrioticaly themed each genre is"
   ]
  },
  {
   "cell_type": "code",
   "execution_count": null,
   "metadata": {},
   "outputs": [],
   "source": []
  }
 ],
 "metadata": {
  "kernelspec": {
   "display_name": "Python 2",
   "language": "python",
   "name": "python2"
  },
  "language_info": {
   "codemirror_mode": {
    "name": "ipython",
    "version": 2
   },
   "file_extension": ".py",
   "mimetype": "text/x-python",
   "name": "python",
   "nbconvert_exporter": "python",
   "pygments_lexer": "ipython2",
   "version": "2.7.15"
  }
 },
 "nbformat": 4,
 "nbformat_minor": 2
}
