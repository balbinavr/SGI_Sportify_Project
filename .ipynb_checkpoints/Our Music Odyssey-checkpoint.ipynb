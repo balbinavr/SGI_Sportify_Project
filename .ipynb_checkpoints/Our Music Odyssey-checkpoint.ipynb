{
 "cells": [
  {
   "cell_type": "markdown",
   "metadata": {},
   "source": [
    "# Our Music Odyssey\n",
    "## A Look into Spotify's Top of the Top"
   ]
  },
  {
   "cell_type": "markdown",
   "metadata": {},
   "source": [
    "### Motivation\n",
    "#### Music is a beautiful thing. \n",
    "It connects people of different backgrounds, from different parts of the world in a nearly automatic, subconcious level. It allows us to experience a mystical, unexplainable joy that is hard to come by in a world that is becoming increasingly logical and technocratic.\n",
    "\n",
    "Everyone at some point of his life has related with a song mood, sounds and of course a song's lyrics. Music is everywhere and that is why we want to analyze information related to music and see if we are able to create a recommendation system using the tools and techniques that we have learned during the course.\n",
    "\n",
    "To put it in a nutshell, we are interested in:\n",
    "\n",
    " * Analysing the collaborations between artists\n",
    " * Analysing song musical similarities and if possible, find the songs that represent the mood and sound of each genre.\n",
    " * Finding how consistent each genre is soundwise. Do most songs sound similar, or you can find much diversity? \n",
    " * Analysing the content of song's lyrics of different artists.\n",
    " * Analysing all the song's lyrics with focus on sentiment, grammar, lexical similarity as well as a set of other features and plot the results to reach meaningful conclusions"
   ]
  },
  {
   "cell_type": "markdown",
   "metadata": {},
   "source": [
    "## Table of Contents\n",
    "### [Part I: Data Mining and Processing](http://nbviewer.jupyter.org/github/balbinavr/SGI_Spotify_Project/blob/master/Social-Graphs-Final-Project.ipynb)\n",
    "### [Part II: Collaboration Networks](http://nbviewer.jupyter.org/github/balbinavr/SGI_Spotify_Project/blob/master/ColaborationsNodes.ipynb)\n",
    "### [Part III: Musical Similarity Networks](http://nbviewer.jupyter.org/github/balbinavr/SGI_Spotify_Project/blob/master/Kon.ipynb)\n",
    "### [Part IV: Text Analysis](http://nbviewer.jupyter.org/github/balbinavr/SGI_Spotify_Project/blob/master/Linguistics.ipynb)"
   ]
  },
  {
   "cell_type": "markdown",
   "metadata": {},
   "source": [
    "### Conclusions and further discussion\n",
    "\n",
    "#### Collaboration Networks\n",
    "- What we've done right: After finishing the analysis of the network of collaborations, we think that we have represented correctly the information of the collaboration between artists on the network created. We struggled a little bit at the beginning to really understand the format and structure of the information retrieved on the services of the Spotify API, because it was not really clear with the information provided on their services. That is why we have included the whole analysis done on the creation of our network, even our first approach was not the correct one. But thanks to our exhaustive analysis on the format and data obtained on the first directed graph created, we have been able to create a new approach with the data well preprocessed. Thanks to this second approach with an undirected graph, we have been able to easily analyze the collaborations done between the different artists and we have applied convenient tools and techniques learnt during the course to extract useful information from the data. We are especially proud to have been able to create the basis for a recommendation system.\n",
    "\n",
    "- What we haven't done: First of all, we think that we could have visualized some results in a more user-friendly way. Especially, the information retrieved from some functions as outputs on the Jupyter notebook. Furthermore, we think that we could have tried to create a function that shows the basis of the recommended system for more artists on the website. But, unfortunately, we have not had more time to do it. In addition, we think that our same analysis should have done with a higher dataset, with more artists and more genres in order to extract more information from it. And, finally, we could also download data from other well-known streaming services (e.g. SoundCloud or Youtube) to see if the results obtained are similar ones or not.\n",
    "\n",
    "#### Musical Similarity Networks\n",
    "We have seen that our metric works well in detecting a general \"mood\" of a song, but it cannot quite catch the real sound of a song. We can give an example, which was drawn by  analyzing the Rock Network. While commenting on the top 5 connected songs of the Network, we' ve seen that although the songs were very close values of the audio_metric, some of them were very different on how they sound.\n",
    "\n",
    "The first one was **Metallica's - Master of Puppets** and the second one was **WALK THE MOON's - Shut Up and Dance**\n",
    "\n",
    "The difference is obvious.\n",
    "\n",
    "The problem lies in the fact that Spotify is not very \"strict\" in regards to genre separation. This means that genres like Rock can contain many songs that also belong to another genre, consequently making a more diverse genre.\n",
    "\n",
    "The way we could overcome this problem is threefold. Firstly, be more strict when downloading the artists, in the sense of writing more specific queries and thus obtaining only the really relevant artists and consequently songs of each genre.\n",
    "Secondly, as we cannot avoid the fact that artists with mixed genres will occur, when obtaining the top-5 songs of each genre, we could filter the songs and keep only the ones that belong *only* to that particular genre. Lastly, the most ambitious goal of ours, would be to connect our audio metric, with the lyrics sentiment metric and build a much more reliable metric that takes into account both \"mood\" and context.\n",
    "\n",
    "Regarding communities Also,we have seen that, in general we had 12-14 per genre. If we assume that every community can represent a subgenre, 12-14 might be a big number. This can be lowered by increasing the treshold for connecting two songs. This way less and more broad communities will be produced, with more distinct audio metrics between them.\n",
    "In addition, future work that should be done is to find and categorize each subgenre(community) by further analyzing the community neteworks.\n",
    "\n",
    "#### Text Analysis\n",
    "- What we've done right: We consider the analysis of text to be significantly robust in this project. Our goal was to provide the tools, dataset and conclusions to provide a basis for meaningful discussion. Through this part of the research project, we have defined a lexicon that can be effectively used in extensions and additions whilst preserving a theoretical complecency with previous results. Apart from that, we are proud of the versatility of tools used to arrive in those results. We didn't limit ourselves to one solution but experimented with multiple ones (especially in mining data and sentiment analysis) whilst at the same time, created versatile Pandas dataframes and dictionaries that can be used in the future. We have tried to make the most out of the plotting capabilities that Python provides us with Matplotlib, Seaborn and JoyPy.  \n",
    "- What we haven't done: We divide this section on the things that could be better and the ones that can be future additions:\n",
    "    - Could be better: We would have liked to have less dictionaries and more use of Pandas Dataframes, due to their indexing capabilities. We would have also liked to present a few interactive plots: the API to do that is very simple with plot.ly. We started our project with high hopes. We wanted to analyse as many as 150,000 total songs - an estimated number for the whole catalogue of all artists in the Top 700. A function to fetch the lyrics of those songs is implemented but the fetching of that data would be a __bottleneck__ for our project. The API calls and HTTP requests are very time consuming and fetching that data would take from days to weeks.\n",
    "    - Future additions: \n",
    "        - Adding more genres into the analysis\n",
    "        - Use mean and standard deviation to find negative and positive songs (this has not been done here, since it was part of previous assignments this semester) and do all sorts of cool things with the statistics\n",
    "        - Make wordclouds from all songs of an artist with illustrative examples\n",
    "        - Split songs in 3 parts - intro, middle part and final. Find words that exist in those parts: see their sentiment and find if they have certain characteristics\n",
    "        - Use titles to see if they have special features and if they represent sentiment adequately\n",
    "        - Mine Wikipedia (or discogs.com or rym.com) to find release dates for albums. See if they have special lexical characteristics and plot distribution of sentiment over time\n",
    "        - Text analyse collaborations and see if they have differences in sentiment\n",
    "        - Use datasets ('god', 'holly', 'sacred', ...) to find out how deity/religious-heavy each genre is \n",
    "        - Use datasets ('brother', 'sister', 'family', ...) to find out how family themed each genre is\n",
    "        - Use datasets ('home', 'homeland', 'America', ...) to find out how patrioticaly themed each genre is"
   ]
  },
  {
   "cell_type": "code",
   "execution_count": null,
   "metadata": {},
   "outputs": [],
   "source": []
  }
 ],
 "metadata": {
  "kernelspec": {
   "display_name": "Python 2",
   "language": "python",
   "name": "python2"
  },
  "language_info": {
   "codemirror_mode": {
    "name": "ipython",
    "version": 2
   },
   "file_extension": ".py",
   "mimetype": "text/x-python",
   "name": "python",
   "nbconvert_exporter": "python",
   "pygments_lexer": "ipython2",
   "version": "2.7.15"
  }
 },
 "nbformat": 4,
 "nbformat_minor": 2
}
