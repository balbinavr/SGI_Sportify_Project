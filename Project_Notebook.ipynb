{
  "nbformat": 4,
  "nbformat_minor": 0,
  "metadata": {
    "colab": {
      "name": "Project_Notebook.ipynb",
      "version": "0.3.2",
      "provenance": [],
      "collapsed_sections": []
    },
    "kernelspec": {
      "name": "python3",
      "display_name": "Python 3"
    }
  },
  "cells": [
    {
      "metadata": {
        "id": "FMtVHtK7L1jU",
        "colab_type": "text"
      },
      "cell_type": "markdown",
      "source": [
        "#Musicality Analysis Project\n",
        "\n",
        "##Motivation\n",
        "\n",
        "Haven't you ever related one moment of your live with a song? Music is everywhere. We want to analyze information related to music and see if we are able to create a recomendation system from the techniques created during the course.\n",
        "\n",
        "In other words, we are interested in:\n",
        "\n",
        " * Analyse the colaborations between artists\n",
        " * Analyse song similarities between artists\n",
        " * Analyse the content of song's lyrics of different artists.\n"
      ]
    },
    {
      "metadata": {
        "id": "LymIIevgZctP",
        "colab_type": "text"
      },
      "cell_type": "markdown",
      "source": [
        "## Data used\n",
        "\n",
        "To be able to achieve our main goals stated, we first defined the data that we would use on our analysis.\n",
        "\n",
        "As there exists milions and milions of data related to artists and music all over the world, we short down our study  to information related to the top 100 of artists from 7 well-known music genres . The list of genres that we used for all our analysis is the following one:\n",
        "\n",
        "* Pop\n",
        "* Rock\n",
        "* Hip-hop\n",
        "* Blues\n",
        "* Indie\n",
        "* Country\n",
        "* Soul\n",
        "\n",
        "For each artist of each genre we are interested in also obtaining information about:\n",
        "\n",
        "* Extensive list of his songs\n",
        "* Other artists that the current artist has colaborated with\n",
        "* Musical characteristics of his top songs\n",
        "* Lyrics of his top songs\n",
        "\n",
        "In order to obtain all this information, we focused our attention on the following tools.\n",
        "\n",
        "### Spotify\n",
        "\n",
        "Spotify is probably one of the most well-known music streaming platforms all over the world. It contains more than 40 milions of tracks that users can listen thanks to their multi-platform web and mobile applications. They also provide a *developer platform* that allows more advanced users to obtain data and extra features. \n",
        "\n",
        "More concretely, we are interested in the Spotify Web API endpoints. Using them, we have been able to obtain our desired information about music artists, albums, and tracks directly from the Spotify Data Catalogue. Furthermore, we have also been interested in obtaining calculated audio features of tracks.\n",
        "\n",
        "The functions used to download our desired data are the following ones:\n",
        "\n",
        "* Search by genre\n",
        "* Get an Artist's Top Tracks\n",
        "* Get an Artist's Albums\n",
        "* Get an Album's Tracks\n",
        "* Get a Track\n",
        "\n",
        "To be able to download all data needed, we have used the already existing spotipy library for Python. For being able to use it, first some credentials needed to be created on the website and, afterwards, defined on the code.\n",
        "\n",
        "The installation and code developed to use it is the following one."
      ]
    },
    {
      "metadata": {
        "id": "E2bF55tjin60",
        "colab_type": "code",
        "outputId": "9b716e8c-8e28-4d25-ef3b-37ea422ee15a",
        "colab": {
          "base_uri": "https://localhost:8080/",
          "height": 119
        }
      },
      "cell_type": "code",
      "source": [
        "#Spotify library installation\n",
        "!pip install spotipy"
      ],
      "execution_count": 0,
      "outputs": [
        {
          "output_type": "stream",
          "text": [
            "Requirement already satisfied: spotipy in /usr/local/lib/python3.6/dist-packages (2.4.4)\n",
            "Requirement already satisfied: requests>=1.0 in /usr/local/lib/python3.6/dist-packages (from spotipy) (2.18.4)\n",
            "Requirement already satisfied: chardet<3.1.0,>=3.0.2 in /usr/local/lib/python3.6/dist-packages (from requests>=1.0->spotipy) (3.0.4)\n",
            "Requirement already satisfied: urllib3<1.23,>=1.21.1 in /usr/local/lib/python3.6/dist-packages (from requests>=1.0->spotipy) (1.22)\n",
            "Requirement already satisfied: idna<2.7,>=2.5 in /usr/local/lib/python3.6/dist-packages (from requests>=1.0->spotipy) (2.6)\n",
            "Requirement already satisfied: certifi>=2017.4.17 in /usr/local/lib/python3.6/dist-packages (from requests>=1.0->spotipy) (2018.11.29)\n"
          ],
          "name": "stdout"
        }
      ]
    },
    {
      "metadata": {
        "id": "0XIIvr_aitd1",
        "colab_type": "code",
        "colab": {}
      },
      "cell_type": "code",
      "source": [
        "#Import needed libraries\n",
        "import sys\n",
        "from spotipy.oauth2 import SpotifyClientCredentials\n",
        "import spotipy\n",
        "import pprint\n",
        "import csv\n",
        "import matplotlib.pyplot as plt\n",
        "import matplotlib.patches as mpatches\n",
        "import pandas as pd"
      ],
      "execution_count": 0,
      "outputs": []
    },
    {
      "metadata": {
        "id": "O4P4IKGdi9OJ",
        "colab_type": "code",
        "colab": {}
      },
      "cell_type": "code",
      "source": [
        "#Spotify autentification credentials\n",
        "client_id = \"b06999e849764d0cb9d85ff2b4762fd9\"\n",
        "client_secret = \"4565b9044d694deb9cf54eddb9b08e69\"\n",
        "\n",
        "client_credentials_manager = SpotifyClientCredentials(client_id=client_id, client_secret=client_secret)\n",
        "sp = spotipy.Spotify(client_credentials_manager=client_credentials_manager)"
      ],
      "execution_count": 0,
      "outputs": []
    },
    {
      "metadata": {
        "id": "khvXfVNRjecN",
        "colab_type": "text"
      },
      "cell_type": "markdown",
      "source": [
        "First, the artists list of top 100 artists for each genre has been created. In this case, the *Search by genre* endpoint has been used by assigning that the type of the response information desired is artist. The maximum length of objects on each response  that spotify allows is just 50, so we needed to make the call twice by using the parameters *limit* and *offset* to obtain our information desired.\n",
        "\n",
        "The downloaded list of artists has been saved on *artists.csv* file and for each artist the following information has been kept.\n",
        "\n",
        "* Artist\n",
        "* Genre\n",
        "* Artist uri\n",
        "* Artist id"
      ]
    },
    {
      "metadata": {
        "id": "M8GPCH_jjBHt",
        "colab_type": "code",
        "colab": {}
      },
      "cell_type": "code",
      "source": [
        "#Download the top 100 artists for each genre defined\n",
        "def downloadTopArtistsGenre(genres):\n",
        "  #Open \n",
        "  file = open(\"artists.csv\", \"w+\")\n",
        "  fileCsv = csv.writer(file)\n",
        "  fileCsv.writerow(['Artist','Genre','Artist_uri','Artist_id'])\n",
        "  for genre in genres:\n",
        "    result = sp.search(q='genre:'+genre, type='artist',limit=50,offset=0)\n",
        "    for artist in result['artists']['items']:\n",
        "      #artist JSON dict like: https://developer.spotify.com/documentation/web-api/reference/artists/get-artist/\n",
        "      row = [artist['name'].encode('ascii', 'ignore'),genre,artist['uri'].encode('ascii', 'ignore'),artist['id'].encode('ascii', 'ignore')]\n",
        "      fileCsv.writerow(row)\n",
        "    result = sp.search(q='genre:'+genre, type='artist',limit=50,offset=50)\n",
        "    for artist in result['artists']['items']:\n",
        "      row = [artist['name'].encode('ascii', 'ignore'),genre,artist['uri'].encode('ascii', 'ignore'),artist['id'].encode('ascii', 'ignore')]\n",
        "      fileCsv.writerow(row)\n",
        "  file.close()"
      ],
      "execution_count": 0,
      "outputs": []
    },
    {
      "metadata": {
        "id": "Y83DJPrcncVa",
        "colab_type": "code",
        "colab": {}
      },
      "cell_type": "code",
      "source": [
        "#Genres defined\n",
        "genres = ['pop','rock','hip-hop','blues','indie','country','soul']\n",
        "downloadTopArtistsGenre(genres)"
      ],
      "execution_count": 0,
      "outputs": []
    },
    {
      "metadata": {
        "id": "Lrx5rFvpmu5p",
        "colab_type": "text"
      },
      "cell_type": "markdown",
      "source": [
        "Afterwards, the colaborations for each artists wanted to be retrieved. To do it, we had to obtain the list of songs for each artists and then checked if the song has multiple artists or not.\n",
        "\n",
        "As the spotify platform does not allow to directly obtain the songs for each artist, first all the albums for each artist were obtained again with the *limit* and *offset* parameters. And then, for each album retrieved, all songs were downloaded and analyzed. A similar procedure was executed for the singles of each artist to obtain as much information as possible related with colaborations because we realized that some remix songs created were not included in any album. This time, we just retrieved, at maximum 50 singles for each artist.\n",
        "\n",
        "Furthermore, we realised that we had to exclude the *compilation* albums and lists retrieved on the same service because, otherwise, information regarding the list of reproductions created by Spotify was also retrieved and processed on our creation of the graph.\n",
        "\n",
        "In this step we decided to do not filter the colaborations within our list of artists, as it would be nice to also abstract some information from the other colaborations at some point of our further analysis. That is why, each time that more than one artists was found on a song, a new entry was added to the *artists_colab.csv* or *artists_colab_singles.csv* files with the following format without any other filtering.\n",
        "\n",
        "* Artist\n",
        "* Artist id\n",
        "* Artist colab.\n",
        "* Artist colab. id\n",
        "* Song\n",
        "* Song id"
      ]
    },
    {
      "metadata": {
        "id": "W6joWxAvom6_",
        "colab_type": "code",
        "colab": {}
      },
      "cell_type": "code",
      "source": [
        "#Downloaded all colaborations of one artist based on his albums\n",
        "def downloadColaborationsPerArtistsAlbums(artistsList):\n",
        "  file = open(\"artists_colab.csv\", \"w+\")\n",
        "  fileCsv = csv.writer(file)\n",
        "  fileCsv.writerow(['Artist', 'Artist_id', 'ArtistColab','ArtistColab_id', 'Song', 'Song_id'])\n",
        "\n",
        "  artistsCol = list()\n",
        "  for index, artist in artistsList.iterrows():\n",
        "    total = 1\n",
        "    offset = 0\n",
        "    while(offset < total):\n",
        "      result = sp.artist_albums(artist['Artist_uri'], limit=50, album_type='album', offset=offset)\n",
        "      for album in result['items']:\n",
        "        if (album['album_type'] != 'Compilation'):\n",
        "          result1 = sp.album_tracks(album['uri'], limit=50)\n",
        "          for song in result1['items']:   \n",
        "            for art in song['artists']:\n",
        "              # tests if art in artists - take only links between the top artists\n",
        "              if(artist['Artist'] != art['name']):\n",
        "                artistsCol.append(art['name'])\n",
        "                row = [artist['Artist'].encode('ascii', 'ignore'), artist['Artist_id'].encode('ascii', 'ignore'), art['name'].encode('ascii', 'ignore'),art['id'].encode('ascii', 'ignore'),song['name'].encode('ascii', 'ignore'), song['id'].encode('ascii', 'ignore')]\n",
        "                fileCsv.writerow(row)\n",
        "      if (offset == 0):\n",
        "        total = result['total']\n",
        "      offset += 1\n",
        "  print(\"Done\")\n",
        "  file.close()\n",
        "\n",
        "#Downloaded all colaborations of one artist based on his singles\n",
        "def downloadColaborationsPerArtistsSingles(artistsList):\n",
        "  file = open(\"artists_colab_singles.csv\", \"w+\")\n",
        "  fileCsv = csv.writer(file)\n",
        "  fileCsv.writerow(['Artist', 'Artist_id', 'ArtistColab','ArtistColab_id', 'Song', 'Song_id'])\n",
        "  artistsCol = list()\n",
        "  for index, artist in artistsList.iterrows():\n",
        "    result = sp.artist_albums(artist['Artist_uri'], limit=50, album_type='single', offset=0)\n",
        "    for album in result['items']:\n",
        "      if (album['album_type'] != 'Compilation'):\n",
        "        result1 = sp.album_tracks(album['uri'], limit=50)\n",
        "        for song in result1['items']:   \n",
        "          for art in song['artists']:\n",
        "            # tests if art in artists - take only links between the top artists\n",
        "            if(artist['Artist'] != art['name']):\n",
        "              artistsCol.append(art['name'])\n",
        "              row = [artist['Artist'].encode('ascii', 'ignore'), artist['Artist_id'].encode('ascii', 'ignore'), art['name'].encode('ascii', 'ignore'),art['id'].encode('ascii', 'ignore'),song['name'].encode('ascii', 'ignore'), song['id'].encode('ascii', 'ignore')]\n",
        "              fileCsv.writerow(row)\n",
        "  print(\"Done\")\n",
        "  file.close()"
      ],
      "execution_count": 0,
      "outputs": []
    },
    {
      "metadata": {
        "id": "XeccZHr1o2P9",
        "colab_type": "code",
        "colab": {}
      },
      "cell_type": "code",
      "source": [
        "#Load artists form the previous saved file\n",
        "artistsList = pd.read_csv('./SGI_Sportify_Project/artists.csv', encoding='utf-8')\n",
        "#Create artists_colab.csv file\n",
        "downloadColaborationsPerArtistsAlbums(artistsList)\n",
        "#Create artists_colab_singles.csv file\n",
        "downloadColaborationsPerArtistsSingles(artistsList)"
      ],
      "execution_count": 0,
      "outputs": []
    },
    {
      "metadata": {
        "id": "l5oDqtEaZgXL",
        "colab_type": "text"
      },
      "cell_type": "markdown",
      "source": [
        "\n",
        "## Network analysis of artists"
      ]
    },
    {
      "metadata": {
        "id": "3Cb6dIONZh5J",
        "colab_type": "text"
      },
      "cell_type": "markdown",
      "source": [
        "\n",
        "## Network analysis of songs"
      ]
    },
    {
      "metadata": {
        "id": "Y1u18R0jZjdl",
        "colab_type": "text"
      },
      "cell_type": "markdown",
      "source": [
        "## Text analysis of Lyrics"
      ]
    },
    {
      "metadata": {
        "id": "QxuMtDhBZk7K",
        "colab_type": "text"
      },
      "cell_type": "markdown",
      "source": [
        "##Conclusions and discussion"
      ]
    },
    {
      "metadata": {
        "id": "zV5da8m1ZlmO",
        "colab_type": "code",
        "colab": {}
      },
      "cell_type": "code",
      "source": [
        ""
      ],
      "execution_count": 0,
      "outputs": []
    }
  ]
}